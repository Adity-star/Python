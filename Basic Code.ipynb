{
 "cells": [
  {
   "cell_type": "code",
   "execution_count": 1,
   "id": "4f593719-6de3-44c1-9804-85633acba9f9",
   "metadata": {},
   "outputs": [],
   "source": [
    "# Introduction\n",
    "# Day 1 - 30DaysOfPython Challenge"
   ]
  },
  {
   "cell_type": "code",
   "execution_count": 2,
   "id": "c09ee780-45a8-4c02-858e-a03b094d0fa6",
   "metadata": {},
   "outputs": [
    {
     "name": "stdout",
     "output_type": "stream",
     "text": [
      "5\n"
     ]
    }
   ],
   "source": [
    "print(3 + 2)   # addition(+)"
   ]
  },
  {
   "cell_type": "code",
   "execution_count": 3,
   "id": "cbadd27f-ded1-4ba0-82df-9e42bd6620d4",
   "metadata": {},
   "outputs": [
    {
     "name": "stdout",
     "output_type": "stream",
     "text": [
      "1\n"
     ]
    }
   ],
   "source": [
    "print(3 - 2)   # subtraction(-)\n"
   ]
  },
  {
   "cell_type": "code",
   "execution_count": 4,
   "id": "825edcb4-5bed-4e9c-ba31-de0042aeb91c",
   "metadata": {},
   "outputs": [
    {
     "name": "stdout",
     "output_type": "stream",
     "text": [
      "6\n"
     ]
    }
   ],
   "source": [
    "print(3 * 2)   # multiplication(*)\n"
   ]
  },
  {
   "cell_type": "code",
   "execution_count": 5,
   "id": "31366693-e2ae-4f85-a925-d7c1ae766bf7",
   "metadata": {},
   "outputs": [
    {
     "name": "stdout",
     "output_type": "stream",
     "text": [
      "1.5\n"
     ]
    }
   ],
   "source": [
    "print(3 / 2)   # division(/)\n"
   ]
  },
  {
   "cell_type": "code",
   "execution_count": 6,
   "id": "80ffee90-8fcd-44a6-b8a4-d3ffb1a873e5",
   "metadata": {},
   "outputs": [
    {
     "name": "stdout",
     "output_type": "stream",
     "text": [
      "9\n"
     ]
    }
   ],
   "source": [
    "print(3 ** 2)  # exponential(**)\n"
   ]
  },
  {
   "cell_type": "code",
   "execution_count": 7,
   "id": "0a7e2ab4-2c80-4a96-ba20-b77182b9ed85",
   "metadata": {},
   "outputs": [
    {
     "name": "stdout",
     "output_type": "stream",
     "text": [
      "1\n"
     ]
    }
   ],
   "source": [
    "print(3 % 2)   # modulus(%)\n"
   ]
  },
  {
   "cell_type": "code",
   "execution_count": 8,
   "id": "aa04a374-1f8f-4ec5-90f8-90531184317d",
   "metadata": {},
   "outputs": [
    {
     "name": "stdout",
     "output_type": "stream",
     "text": [
      "1\n"
     ]
    }
   ],
   "source": [
    "print(3 // 2)  # Floor division operator(//)\n"
   ]
  },
  {
   "cell_type": "markdown",
   "id": "04e9e211-0946-43cd-b83f-64beff0b84b6",
   "metadata": {},
   "source": [
    "# Checking Data Types "
   ]
  },
  {
   "cell_type": "code",
   "execution_count": 9,
   "id": "fe4d6211-a709-4d36-bdbc-065f7eaaabe7",
   "metadata": {},
   "outputs": [
    {
     "name": "stdout",
     "output_type": "stream",
     "text": [
      "<class 'int'>\n"
     ]
    }
   ],
   "source": [
    "print(type(10))                  # Int"
   ]
  },
  {
   "cell_type": "code",
   "execution_count": 10,
   "id": "442cd15a-6cca-43b8-aaf0-517c6fe3b7ef",
   "metadata": {},
   "outputs": [
    {
     "name": "stdout",
     "output_type": "stream",
     "text": [
      "<class 'float'>\n"
     ]
    }
   ],
   "source": [
    "print(type(3.14))                # Float"
   ]
  },
  {
   "cell_type": "code",
   "execution_count": 11,
   "id": "7031af51-0e13-47dd-90e0-f01c932add92",
   "metadata": {},
   "outputs": [
    {
     "name": "stdout",
     "output_type": "stream",
     "text": [
      "<class 'complex'>\n"
     ]
    }
   ],
   "source": [
    "print(type(1 + 3j))              # Complex"
   ]
  },
  {
   "cell_type": "code",
   "execution_count": 12,
   "id": "645d612a-3277-4f33-9d36-4d0d55aaa599",
   "metadata": {},
   "outputs": [
    {
     "name": "stdout",
     "output_type": "stream",
     "text": [
      "<class 'str'>\n"
     ]
    }
   ],
   "source": [
    "print(type('Asabeneh'))          # String"
   ]
  },
  {
   "cell_type": "code",
   "execution_count": 13,
   "id": "04c4e598-bd3c-4042-8f91-f6e62013e24d",
   "metadata": {},
   "outputs": [
    {
     "name": "stdout",
     "output_type": "stream",
     "text": [
      "<class 'list'>\n"
     ]
    }
   ],
   "source": [
    "print(type([1, 2, 3]))           # List"
   ]
  },
  {
   "cell_type": "code",
   "execution_count": 14,
   "id": "2d9c5924-66c4-4cb7-9ca7-5453bd202238",
   "metadata": {},
   "outputs": [
    {
     "name": "stdout",
     "output_type": "stream",
     "text": [
      "<class 'dict'>\n"
     ]
    }
   ],
   "source": [
    "print(type({'name':'Asabeneh'})) # Dictionary"
   ]
  },
  {
   "cell_type": "code",
   "execution_count": 15,
   "id": "1e75c03f-ad10-4db4-8474-56a0299471c2",
   "metadata": {},
   "outputs": [
    {
     "name": "stdout",
     "output_type": "stream",
     "text": [
      "<class 'set'>\n"
     ]
    }
   ],
   "source": [
    "print(type({9.8, 3.14, 2.7}))    # Set"
   ]
  },
  {
   "cell_type": "code",
   "execution_count": 16,
   "id": "aae21353-be99-49d4-8b7d-52ea204ac830",
   "metadata": {},
   "outputs": [
    {
     "name": "stdout",
     "output_type": "stream",
     "text": [
      "<class 'tuple'>\n"
     ]
    }
   ],
   "source": [
    "print(type((9.8, 3.14, 2.7)))    # Tuple"
   ]
  },
  {
   "cell_type": "code",
   "execution_count": 17,
   "id": "0f2a9287-a46d-48c3-87b8-6c7227804b02",
   "metadata": {},
   "outputs": [
    {
     "name": "stdout",
     "output_type": "stream",
     "text": [
      "<class 'bool'>\n"
     ]
    }
   ],
   "source": [
    "print(type(3 == 3))              # Bool"
   ]
  },
  {
   "cell_type": "code",
   "execution_count": 18,
   "id": "aa367e2f-6db6-49f9-8b2a-02b66367ac37",
   "metadata": {},
   "outputs": [
    {
     "name": "stdout",
     "output_type": "stream",
     "text": [
      "<class 'bool'>\n"
     ]
    }
   ],
   "source": [
    "print(type(3 >= 3))              # Bool"
   ]
  }
 ],
 "metadata": {
  "kernelspec": {
   "display_name": "Python 3",
   "language": "python",
   "name": "python3"
  },
  "language_info": {
   "codemirror_mode": {
    "name": "ipython",
    "version": 3
   },
   "file_extension": ".py",
   "mimetype": "text/x-python",
   "name": "python",
   "nbconvert_exporter": "python",
   "pygments_lexer": "ipython3",
   "version": "3.12.8"
  }
 },
 "nbformat": 4,
 "nbformat_minor": 5
}
