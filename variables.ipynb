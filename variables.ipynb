{
 "cells": [
  {
   "cell_type": "code",
   "execution_count": 1,
   "metadata": {},
   "outputs": [],
   "source": [
    "# Variables in Python\n",
    "\n",
    "first_name = 'PRAKASH'\n",
    "last_name = 'SENAPATI'\n",
    "country = 'HYD'\n",
    "city = 'TELENGANA'\n",
    "age = 40087\n",
    "is_married = True\n",
    "skills = ['HTML', 'CSS', 'JS', 'React', 'Python']\n",
    "person_info = {\n",
    "    'firstname':'Asabeneh', \n",
    "    'lastname':'Yetayeh', \n",
    "    'country':'Finland',\n",
    "    'city':'Helsinki'\n",
    "    }\n"
   ]
  },
  {
   "cell_type": "code",
   "execution_count": 2,
   "metadata": {},
   "outputs": [
    {
     "name": "stdout",
     "output_type": "stream",
     "text": [
      "First name: PRAKASH\n",
      "First name length: 7\n",
      "Last name:  SENAPATI\n",
      "Last name length:  8\n",
      "Country:  HYD\n",
      "City:  TELENGANA\n",
      "Age:  40087\n",
      "Married:  True\n",
      "Skills:  ['HTML', 'CSS', 'JS', 'React', 'Python']\n",
      "Person information:  {'firstname': 'Asabeneh', 'lastname': 'Yetayeh', 'country': 'Finland', 'city': 'Helsinki'}\n"
     ]
    }
   ],
   "source": [
    "# Printing the values stored in the variables\n",
    "\n",
    "print('First name:', first_name)\n",
    "print('First name length:', len(first_name))\n",
    "print('Last name: ', last_name)\n",
    "print('Last name length: ', len(last_name))\n",
    "print('Country: ', country)\n",
    "print('City: ', city)\n",
    "print('Age: ', age)\n",
    "print('Married: ', is_married)\n",
    "print('Skills: ', skills)\n",
    "print('Person information: ', person_info)"
   ]
  },
  {
   "cell_type": "code",
   "execution_count": 3,
   "metadata": {},
   "outputs": [
    {
     "name": "stdout",
     "output_type": "stream",
     "text": [
      "Asabeneh Yetayeh Helsink 250 True\n",
      "First name: Asabeneh\n",
      "Last name:  Yetayeh\n",
      "Country:  Helsink\n",
      "Age:  250\n",
      "Married:  True\n"
     ]
    }
   ],
   "source": [
    "# Declaring multiple variables in one line\n",
    "\n",
    "first_name, last_name, country, age, is_married = 'Asabeneh', 'Yetayeh', 'Helsink', 250, True\n",
    "\n",
    "print(first_name, last_name, country, age, is_married)\n",
    "print('First name:', first_name)\n",
    "print('Last name: ', last_name)\n",
    "print('Country: ', country)\n",
    "print('Age: ', age)\n",
    "print('Married: ', is_married)"
   ]
  },
  {
   "cell_type": "code",
   "execution_count": null,
   "metadata": {},
   "outputs": [],
   "source": []
  },
  {
   "cell_type": "code",
   "execution_count": null,
   "metadata": {},
   "outputs": [],
   "source": []
  },
  {
   "cell_type": "code",
   "execution_count": null,
   "metadata": {},
   "outputs": [],
   "source": []
  },
  {
   "cell_type": "code",
   "execution_count": null,
   "metadata": {},
   "outputs": [],
   "source": []
  },
  {
   "cell_type": "code",
   "execution_count": null,
   "metadata": {},
   "outputs": [],
   "source": []
  }
 ],
 "metadata": {
  "kernelspec": {
   "display_name": "Python 3",
   "language": "python",
   "name": "python3"
  },
  "language_info": {
   "codemirror_mode": {
    "name": "ipython",
    "version": 3
   },
   "file_extension": ".py",
   "mimetype": "text/x-python",
   "name": "python",
   "nbconvert_exporter": "python",
   "pygments_lexer": "ipython3",
   "version": "3.12.8"
  }
 },
 "nbformat": 4,
 "nbformat_minor": 2
}
